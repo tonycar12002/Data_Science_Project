{
 "cells": [
  {
   "cell_type": "code",
   "execution_count": null,
   "metadata": {
    "collapsed": false
   },
   "outputs": [],
   "source": [
    "import csv\n",
    "from googletrans import Translator\n",
    "trans_file = open('all_videos_trans.csv', 'a')\n",
    "writer = csv.writer(trans_file)\n",
    "\n",
    "now = 0        \n",
    "with open(\"all_videos.csv\", newline=\"\") as file:\n",
    "    csvCursor = list(csv.reader(file))\n",
    "    if now == 0:\n",
    "        writer.writerow(csvCursor[0])\n",
    "    for i in range(now+1, now+10):\n",
    "        now = i\n",
    "        print(now)\n",
    "        row = csvCursor[i]\n",
    "        if i != 0:\n",
    "            row[11]=\"test3\"\n",
    "            print(row[11])\n",
    "        writer.writerow(row)\n",
    "        \n",
    "trans_file.close()"
   ]
  }
 ],
 "metadata": {
  "anaconda-cloud": {},
  "kernelspec": {
   "display_name": "Python [conda root]",
   "language": "python",
   "name": "conda-root-py"
  },
  "language_info": {
   "codemirror_mode": {
    "name": "ipython",
    "version": 3
   },
   "file_extension": ".py",
   "mimetype": "text/x-python",
   "name": "python",
   "nbconvert_exporter": "python",
   "pygments_lexer": "ipython3",
   "version": "3.5.2"
  }
 },
 "nbformat": 4,
 "nbformat_minor": 1
}
